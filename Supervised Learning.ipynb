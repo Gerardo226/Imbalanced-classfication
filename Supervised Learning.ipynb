{
 "cells": [
  {
   "cell_type": "code",
   "execution_count": null,
   "id": "75be651f",
   "metadata": {},
   "outputs": [],
   "source": []
  },
  {
   "cell_type": "markdown",
   "id": "5d2418e4",
   "metadata": {},
   "source": [
    "# Description\n",
    "Beta Bank customers are leaving: little by little, chipping away every month. The bankers figured out it’s cheaper to save the existing customers rather than to attract new ones."
   ]
  },
  {
   "cell_type": "markdown",
   "id": "bcdb4ab3",
   "metadata": {},
   "source": [
    "# Goal\n",
    "To predict whether a customer will leave the bank soon"
   ]
  },
  {
   "cell_type": "markdown",
   "id": "96f0d033",
   "metadata": {},
   "source": [
    "# Data description\n",
    "# Features\n",
    "\n",
    "RowNumber — data string index\n",
    "\n",
    "CustomerId — unique customer identifier\n",
    "\n",
    "Surname — surname\n",
    "\n",
    "CreditScore — credit score\n",
    "\n",
    "Geography — country of residence\n",
    "\n",
    "Gender — gender\n",
    "\n",
    "Age — age\n",
    "\n",
    "Tenure — period of maturation for a customer’s fixed deposit (years)\n",
    "\n",
    "Balance — account balance\n",
    "\n",
    "NumOfProducts — number of banking products used by the customer\n",
    "\n",
    "HasCrCard — customer has a credit card\n",
    "\n",
    "IsActiveMember — customer’s activeness\n",
    "\n",
    "EstimatedSalary — estimated salary\n",
    "# Target\n",
    "Exited — сustomer has left"
   ]
  },
  {
   "cell_type": "code",
   "execution_count": 2,
   "id": "723047d4",
   "metadata": {},
   "outputs": [],
   "source": [
    "import pandas as pd\n",
    "import numpy as np\n",
    "import matplotlib.pyplot as plt\n",
    "import seaborn as sns\n",
    "from sklearn.model_selection import train_test_split\n",
    "from sklearn.utils import shuffle\n",
    "from sklearn.preprocessing import StandardScaler \n",
    "from sklearn.model_selection import train_test_split\n",
    "from sklearn.metrics import f1_score\n",
    "from sklearn.metrics import roc_curve\n",
    "from sklearn.metrics import roc_auc_score\n",
    "from sklearn.dummy import DummyClassifier\n",
    "from sklearn.tree import DecisionTreeClassifier\n",
    "from sklearn.ensemble import RandomForestClassifier\n",
    "from sklearn.linear_model import LogisticRegression\n",
    "import warnings\n",
    "warnings.filterwarnings('ignore')   \n"
   ]
  },
  {
   "cell_type": "code",
   "execution_count": 3,
   "id": "3ac4f8d2",
   "metadata": {},
   "outputs": [],
   "source": [
    "data= pd.read_csv('Churn (2).csv')"
   ]
  },
  {
   "cell_type": "code",
   "execution_count": 5,
   "id": "3e25a95d",
   "metadata": {},
   "outputs": [
    {
     "data": {
      "text/html": [
       "<div>\n",
       "<style scoped>\n",
       "    .dataframe tbody tr th:only-of-type {\n",
       "        vertical-align: middle;\n",
       "    }\n",
       "\n",
       "    .dataframe tbody tr th {\n",
       "        vertical-align: top;\n",
       "    }\n",
       "\n",
       "    .dataframe thead th {\n",
       "        text-align: right;\n",
       "    }\n",
       "</style>\n",
       "<table border=\"1\" class=\"dataframe\">\n",
       "  <thead>\n",
       "    <tr style=\"text-align: right;\">\n",
       "      <th></th>\n",
       "      <th>RowNumber</th>\n",
       "      <th>CustomerId</th>\n",
       "      <th>Surname</th>\n",
       "      <th>CreditScore</th>\n",
       "      <th>Geography</th>\n",
       "      <th>Gender</th>\n",
       "      <th>Age</th>\n",
       "      <th>Tenure</th>\n",
       "      <th>Balance</th>\n",
       "      <th>NumOfProducts</th>\n",
       "      <th>HasCrCard</th>\n",
       "      <th>IsActiveMember</th>\n",
       "      <th>EstimatedSalary</th>\n",
       "      <th>Exited</th>\n",
       "    </tr>\n",
       "  </thead>\n",
       "  <tbody>\n",
       "    <tr>\n",
       "      <th>0</th>\n",
       "      <td>1</td>\n",
       "      <td>15634602</td>\n",
       "      <td>Hargrave</td>\n",
       "      <td>619</td>\n",
       "      <td>France</td>\n",
       "      <td>Female</td>\n",
       "      <td>42</td>\n",
       "      <td>2.0</td>\n",
       "      <td>0.00</td>\n",
       "      <td>1</td>\n",
       "      <td>1</td>\n",
       "      <td>1</td>\n",
       "      <td>101348.88</td>\n",
       "      <td>1</td>\n",
       "    </tr>\n",
       "    <tr>\n",
       "      <th>1</th>\n",
       "      <td>2</td>\n",
       "      <td>15647311</td>\n",
       "      <td>Hill</td>\n",
       "      <td>608</td>\n",
       "      <td>Spain</td>\n",
       "      <td>Female</td>\n",
       "      <td>41</td>\n",
       "      <td>1.0</td>\n",
       "      <td>83807.86</td>\n",
       "      <td>1</td>\n",
       "      <td>0</td>\n",
       "      <td>1</td>\n",
       "      <td>112542.58</td>\n",
       "      <td>0</td>\n",
       "    </tr>\n",
       "    <tr>\n",
       "      <th>2</th>\n",
       "      <td>3</td>\n",
       "      <td>15619304</td>\n",
       "      <td>Onio</td>\n",
       "      <td>502</td>\n",
       "      <td>France</td>\n",
       "      <td>Female</td>\n",
       "      <td>42</td>\n",
       "      <td>8.0</td>\n",
       "      <td>159660.80</td>\n",
       "      <td>3</td>\n",
       "      <td>1</td>\n",
       "      <td>0</td>\n",
       "      <td>113931.57</td>\n",
       "      <td>1</td>\n",
       "    </tr>\n",
       "    <tr>\n",
       "      <th>3</th>\n",
       "      <td>4</td>\n",
       "      <td>15701354</td>\n",
       "      <td>Boni</td>\n",
       "      <td>699</td>\n",
       "      <td>France</td>\n",
       "      <td>Female</td>\n",
       "      <td>39</td>\n",
       "      <td>1.0</td>\n",
       "      <td>0.00</td>\n",
       "      <td>2</td>\n",
       "      <td>0</td>\n",
       "      <td>0</td>\n",
       "      <td>93826.63</td>\n",
       "      <td>0</td>\n",
       "    </tr>\n",
       "    <tr>\n",
       "      <th>4</th>\n",
       "      <td>5</td>\n",
       "      <td>15737888</td>\n",
       "      <td>Mitchell</td>\n",
       "      <td>850</td>\n",
       "      <td>Spain</td>\n",
       "      <td>Female</td>\n",
       "      <td>43</td>\n",
       "      <td>2.0</td>\n",
       "      <td>125510.82</td>\n",
       "      <td>1</td>\n",
       "      <td>1</td>\n",
       "      <td>1</td>\n",
       "      <td>79084.10</td>\n",
       "      <td>0</td>\n",
       "    </tr>\n",
       "  </tbody>\n",
       "</table>\n",
       "</div>"
      ],
      "text/plain": [
       "   RowNumber  CustomerId   Surname  CreditScore Geography  Gender  Age  \\\n",
       "0          1    15634602  Hargrave          619    France  Female   42   \n",
       "1          2    15647311      Hill          608     Spain  Female   41   \n",
       "2          3    15619304      Onio          502    France  Female   42   \n",
       "3          4    15701354      Boni          699    France  Female   39   \n",
       "4          5    15737888  Mitchell          850     Spain  Female   43   \n",
       "\n",
       "   Tenure    Balance  NumOfProducts  HasCrCard  IsActiveMember  \\\n",
       "0     2.0       0.00              1          1               1   \n",
       "1     1.0   83807.86              1          0               1   \n",
       "2     8.0  159660.80              3          1               0   \n",
       "3     1.0       0.00              2          0               0   \n",
       "4     2.0  125510.82              1          1               1   \n",
       "\n",
       "   EstimatedSalary  Exited  \n",
       "0        101348.88       1  \n",
       "1        112542.58       0  \n",
       "2        113931.57       1  \n",
       "3         93826.63       0  \n",
       "4         79084.10       0  "
      ]
     },
     "execution_count": 5,
     "metadata": {},
     "output_type": "execute_result"
    }
   ],
   "source": [
    "#Overview\n",
    "data.head()"
   ]
  },
  {
   "cell_type": "code",
   "execution_count": 6,
   "id": "49a5e5d0",
   "metadata": {},
   "outputs": [
    {
     "name": "stdout",
     "output_type": "stream",
     "text": [
      "<class 'pandas.core.frame.DataFrame'>\n",
      "RangeIndex: 10000 entries, 0 to 9999\n",
      "Data columns (total 14 columns):\n",
      " #   Column           Non-Null Count  Dtype  \n",
      "---  ------           --------------  -----  \n",
      " 0   RowNumber        10000 non-null  int64  \n",
      " 1   CustomerId       10000 non-null  int64  \n",
      " 2   Surname          10000 non-null  object \n",
      " 3   CreditScore      10000 non-null  int64  \n",
      " 4   Geography        10000 non-null  object \n",
      " 5   Gender           10000 non-null  object \n",
      " 6   Age              10000 non-null  int64  \n",
      " 7   Tenure           9091 non-null   float64\n",
      " 8   Balance          10000 non-null  float64\n",
      " 9   NumOfProducts    10000 non-null  int64  \n",
      " 10  HasCrCard        10000 non-null  int64  \n",
      " 11  IsActiveMember   10000 non-null  int64  \n",
      " 12  EstimatedSalary  10000 non-null  float64\n",
      " 13  Exited           10000 non-null  int64  \n",
      "dtypes: float64(3), int64(8), object(3)\n",
      "memory usage: 1.1+ MB\n"
     ]
    }
   ],
   "source": [
    "data.info()"
   ]
  },
  {
   "cell_type": "code",
   "execution_count": 7,
   "id": "4eff4658",
   "metadata": {},
   "outputs": [
    {
     "data": {
      "text/html": [
       "<div>\n",
       "<style scoped>\n",
       "    .dataframe tbody tr th:only-of-type {\n",
       "        vertical-align: middle;\n",
       "    }\n",
       "\n",
       "    .dataframe tbody tr th {\n",
       "        vertical-align: top;\n",
       "    }\n",
       "\n",
       "    .dataframe thead th {\n",
       "        text-align: right;\n",
       "    }\n",
       "</style>\n",
       "<table border=\"1\" class=\"dataframe\">\n",
       "  <thead>\n",
       "    <tr style=\"text-align: right;\">\n",
       "      <th></th>\n",
       "      <th>RowNumber</th>\n",
       "      <th>CustomerId</th>\n",
       "      <th>CreditScore</th>\n",
       "      <th>Age</th>\n",
       "      <th>Tenure</th>\n",
       "      <th>Balance</th>\n",
       "      <th>NumOfProducts</th>\n",
       "      <th>HasCrCard</th>\n",
       "      <th>IsActiveMember</th>\n",
       "      <th>EstimatedSalary</th>\n",
       "      <th>Exited</th>\n",
       "    </tr>\n",
       "  </thead>\n",
       "  <tbody>\n",
       "    <tr>\n",
       "      <th>count</th>\n",
       "      <td>10000.00000</td>\n",
       "      <td>1.000000e+04</td>\n",
       "      <td>10000.000000</td>\n",
       "      <td>10000.000000</td>\n",
       "      <td>9091.000000</td>\n",
       "      <td>10000.000000</td>\n",
       "      <td>10000.000000</td>\n",
       "      <td>10000.00000</td>\n",
       "      <td>10000.000000</td>\n",
       "      <td>10000.000000</td>\n",
       "      <td>10000.000000</td>\n",
       "    </tr>\n",
       "    <tr>\n",
       "      <th>mean</th>\n",
       "      <td>5000.50000</td>\n",
       "      <td>1.569094e+07</td>\n",
       "      <td>650.528800</td>\n",
       "      <td>38.921800</td>\n",
       "      <td>4.997690</td>\n",
       "      <td>76485.889288</td>\n",
       "      <td>1.530200</td>\n",
       "      <td>0.70550</td>\n",
       "      <td>0.515100</td>\n",
       "      <td>100090.239881</td>\n",
       "      <td>0.203700</td>\n",
       "    </tr>\n",
       "    <tr>\n",
       "      <th>std</th>\n",
       "      <td>2886.89568</td>\n",
       "      <td>7.193619e+04</td>\n",
       "      <td>96.653299</td>\n",
       "      <td>10.487806</td>\n",
       "      <td>2.894723</td>\n",
       "      <td>62397.405202</td>\n",
       "      <td>0.581654</td>\n",
       "      <td>0.45584</td>\n",
       "      <td>0.499797</td>\n",
       "      <td>57510.492818</td>\n",
       "      <td>0.402769</td>\n",
       "    </tr>\n",
       "    <tr>\n",
       "      <th>min</th>\n",
       "      <td>1.00000</td>\n",
       "      <td>1.556570e+07</td>\n",
       "      <td>350.000000</td>\n",
       "      <td>18.000000</td>\n",
       "      <td>0.000000</td>\n",
       "      <td>0.000000</td>\n",
       "      <td>1.000000</td>\n",
       "      <td>0.00000</td>\n",
       "      <td>0.000000</td>\n",
       "      <td>11.580000</td>\n",
       "      <td>0.000000</td>\n",
       "    </tr>\n",
       "    <tr>\n",
       "      <th>25%</th>\n",
       "      <td>2500.75000</td>\n",
       "      <td>1.562853e+07</td>\n",
       "      <td>584.000000</td>\n",
       "      <td>32.000000</td>\n",
       "      <td>2.000000</td>\n",
       "      <td>0.000000</td>\n",
       "      <td>1.000000</td>\n",
       "      <td>0.00000</td>\n",
       "      <td>0.000000</td>\n",
       "      <td>51002.110000</td>\n",
       "      <td>0.000000</td>\n",
       "    </tr>\n",
       "    <tr>\n",
       "      <th>50%</th>\n",
       "      <td>5000.50000</td>\n",
       "      <td>1.569074e+07</td>\n",
       "      <td>652.000000</td>\n",
       "      <td>37.000000</td>\n",
       "      <td>5.000000</td>\n",
       "      <td>97198.540000</td>\n",
       "      <td>1.000000</td>\n",
       "      <td>1.00000</td>\n",
       "      <td>1.000000</td>\n",
       "      <td>100193.915000</td>\n",
       "      <td>0.000000</td>\n",
       "    </tr>\n",
       "    <tr>\n",
       "      <th>75%</th>\n",
       "      <td>7500.25000</td>\n",
       "      <td>1.575323e+07</td>\n",
       "      <td>718.000000</td>\n",
       "      <td>44.000000</td>\n",
       "      <td>7.000000</td>\n",
       "      <td>127644.240000</td>\n",
       "      <td>2.000000</td>\n",
       "      <td>1.00000</td>\n",
       "      <td>1.000000</td>\n",
       "      <td>149388.247500</td>\n",
       "      <td>0.000000</td>\n",
       "    </tr>\n",
       "    <tr>\n",
       "      <th>max</th>\n",
       "      <td>10000.00000</td>\n",
       "      <td>1.581569e+07</td>\n",
       "      <td>850.000000</td>\n",
       "      <td>92.000000</td>\n",
       "      <td>10.000000</td>\n",
       "      <td>250898.090000</td>\n",
       "      <td>4.000000</td>\n",
       "      <td>1.00000</td>\n",
       "      <td>1.000000</td>\n",
       "      <td>199992.480000</td>\n",
       "      <td>1.000000</td>\n",
       "    </tr>\n",
       "  </tbody>\n",
       "</table>\n",
       "</div>"
      ],
      "text/plain": [
       "         RowNumber    CustomerId   CreditScore           Age       Tenure  \\\n",
       "count  10000.00000  1.000000e+04  10000.000000  10000.000000  9091.000000   \n",
       "mean    5000.50000  1.569094e+07    650.528800     38.921800     4.997690   \n",
       "std     2886.89568  7.193619e+04     96.653299     10.487806     2.894723   \n",
       "min        1.00000  1.556570e+07    350.000000     18.000000     0.000000   \n",
       "25%     2500.75000  1.562853e+07    584.000000     32.000000     2.000000   \n",
       "50%     5000.50000  1.569074e+07    652.000000     37.000000     5.000000   \n",
       "75%     7500.25000  1.575323e+07    718.000000     44.000000     7.000000   \n",
       "max    10000.00000  1.581569e+07    850.000000     92.000000    10.000000   \n",
       "\n",
       "             Balance  NumOfProducts    HasCrCard  IsActiveMember  \\\n",
       "count   10000.000000   10000.000000  10000.00000    10000.000000   \n",
       "mean    76485.889288       1.530200      0.70550        0.515100   \n",
       "std     62397.405202       0.581654      0.45584        0.499797   \n",
       "min         0.000000       1.000000      0.00000        0.000000   \n",
       "25%         0.000000       1.000000      0.00000        0.000000   \n",
       "50%     97198.540000       1.000000      1.00000        1.000000   \n",
       "75%    127644.240000       2.000000      1.00000        1.000000   \n",
       "max    250898.090000       4.000000      1.00000        1.000000   \n",
       "\n",
       "       EstimatedSalary        Exited  \n",
       "count     10000.000000  10000.000000  \n",
       "mean     100090.239881      0.203700  \n",
       "std       57510.492818      0.402769  \n",
       "min          11.580000      0.000000  \n",
       "25%       51002.110000      0.000000  \n",
       "50%      100193.915000      0.000000  \n",
       "75%      149388.247500      0.000000  \n",
       "max      199992.480000      1.000000  "
      ]
     },
     "execution_count": 7,
     "metadata": {},
     "output_type": "execute_result"
    }
   ],
   "source": [
    "data.describe()"
   ]
  },
  {
   "cell_type": "code",
   "execution_count": 8,
   "id": "056c3509",
   "metadata": {},
   "outputs": [
    {
     "data": {
      "image/png": "[encoded data removed]",
      "text/plain": [
       "<Figure size 1080x432 with 8 Axes>"
      ]
     },
     "metadata": {
      "needs_background": "light"
     },
     "output_type": "display_data"
    }
   ],
   "source": [
    "numeric = ['CreditScore','Age','Tenure','Balance','EstimatedSalary','NumOfProducts' ]\n",
    "data[numeric].hist(bins=15, figsize=(15, 6), layout=(2, 4));"
   ]
  },
  {
   "cell_type": "markdown",
   "id": "0269525f",
   "metadata": {},
   "source": [
    "# All other numeric data looks correctly looks like the balance columns has alot of customers with zero money in there account "
   ]
  },
  {
   "cell_type": "code",
   "execution_count": 9,
   "id": "ad12344f",
   "metadata": {},
   "outputs": [],
   "source": [
    "#lower case all columns \n",
    "data.columns = data.columns.str.lower()"
   ]
  },
  {
   "cell_type": "code",
   "execution_count": 10,
   "id": "d28473b7",
   "metadata": {},
   "outputs": [
    {
     "name": "stdout",
     "output_type": "stream",
     "text": [
      "rownumber          0.00\n",
      "customerid         0.00\n",
      "surname            0.00\n",
      "creditscore        0.00\n",
      "geography          0.00\n",
      "gender             0.00\n",
      "age                0.00\n",
      "tenure             9.09\n",
      "balance            0.00\n",
      "numofproducts      0.00\n",
      "hascrcard          0.00\n",
      "isactivemember     0.00\n",
      "estimatedsalary    0.00\n",
      "exited             0.00\n",
      "dtype: float64\n"
     ]
    }
   ],
   "source": [
    "#Percentage of missing values \n",
    "print(data.isna().sum()*100/len(data))"
   ]
  },
  {
   "cell_type": "markdown",
   "id": "5d0afb30",
   "metadata": {},
   "source": [
    "Our tenure column is miss 9% of the data. "
   ]
  },
  {
   "cell_type": "code",
   "execution_count": 11,
   "id": "b8086729",
   "metadata": {},
   "outputs": [
    {
     "data": {
      "text/plain": [
       "1.0     952\n",
       "2.0     950\n",
       "8.0     933\n",
       "3.0     928\n",
       "5.0     927\n",
       "7.0     925\n",
       "4.0     885\n",
       "9.0     882\n",
       "6.0     881\n",
       "10.0    446\n",
       "0.0     382\n",
       "Name: tenure, dtype: int64"
      ]
     },
     "execution_count": 11,
     "metadata": {},
     "output_type": "execute_result"
    }
   ],
   "source": [
    "data.tenure.value_counts()"
   ]
  },
  {
   "cell_type": "code",
   "execution_count": 12,
   "id": "52b7badd",
   "metadata": {},
   "outputs": [
    {
     "name": "stdout",
     "output_type": "stream",
     "text": [
      "rownumber          0\n",
      "customerid         0\n",
      "surname            0\n",
      "creditscore        0\n",
      "geography          0\n",
      "gender             0\n",
      "age                0\n",
      "tenure             0\n",
      "balance            0\n",
      "numofproducts      0\n",
      "hascrcard          0\n",
      "isactivemember     0\n",
      "estimatedsalary    0\n",
      "exited             0\n",
      "dtype: int64\n"
     ]
    }
   ],
   "source": [
    "#Will fill in missing values in the tenure using the num of products \n",
    "data.tenure= data.groupby('numofproducts')['tenure'].fillna(lambda x: x.mean())\n",
    "print(data.isna().sum())"
   ]
  },
  {
   "cell_type": "code",
   "execution_count": 13,
   "id": "38014909",
   "metadata": {},
   "outputs": [
    {
     "data": {
      "text/html": [
       "<div>\n",
       "<style scoped>\n",
       "    .dataframe tbody tr th:only-of-type {\n",
       "        vertical-align: middle;\n",
       "    }\n",
       "\n",
       "    .dataframe tbody tr th {\n",
       "        vertical-align: top;\n",
       "    }\n",
       "\n",
       "    .dataframe thead th {\n",
       "        text-align: right;\n",
       "    }\n",
       "</style>\n",
       "<table border=\"1\" class=\"dataframe\">\n",
       "  <thead>\n",
       "    <tr style=\"text-align: right;\">\n",
       "      <th></th>\n",
       "      <th>rownumber</th>\n",
       "      <th>customerid</th>\n",
       "      <th>surname</th>\n",
       "      <th>creditscore</th>\n",
       "      <th>geography</th>\n",
       "      <th>gender</th>\n",
       "      <th>age</th>\n",
       "      <th>tenure</th>\n",
       "      <th>balance</th>\n",
       "      <th>numofproducts</th>\n",
       "      <th>hascrcard</th>\n",
       "      <th>isactivemember</th>\n",
       "      <th>estimatedsalary</th>\n",
       "      <th>exited</th>\n",
       "    </tr>\n",
       "  </thead>\n",
       "  <tbody>\n",
       "  </tbody>\n",
       "</table>\n",
       "</div>"
      ],
      "text/plain": [
       "Empty DataFrame\n",
       "Columns: [rownumber, customerid, surname, creditscore, geography, gender, age, tenure, balance, numofproducts, hascrcard, isactivemember, estimatedsalary, exited]\n",
       "Index: []"
      ]
     },
     "execution_count": 13,
     "metadata": {},
     "output_type": "execute_result"
    }
   ],
   "source": [
    "#checking for duplicates \n",
    "duplicates = data[data.duplicated()]\n",
    "duplicates"
   ]
  },
  {
   "cell_type": "markdown",
   "id": "e0f29817",
   "metadata": {},
   "source": [
    "# EDA"
   ]
  },
  {
   "cell_type": "code",
   "execution_count": 14,
   "id": "d5956d11",
   "metadata": {},
   "outputs": [
    {
     "data": {
      "text/plain": [
       "age                 359\n",
       "balance               0\n",
       "creditscore          15\n",
       "customerid            0\n",
       "estimatedsalary       0\n",
       "exited             2037\n",
       "gender                0\n",
       "geography             0\n",
       "hascrcard             0\n",
       "isactivemember        0\n",
       "numofproducts        60\n",
       "rownumber             0\n",
       "surname               0\n",
       "tenure                0\n",
       "dtype: int64"
      ]
     },
     "execution_count": 14,
     "metadata": {},
     "output_type": "execute_result"
    }
   ],
   "source": [
    "#outliers in our data set \n",
    "Q1 = data.quantile(0.25)\n",
    "Q3 = data.quantile(0.75)\n",
    "IQR = Q3 - Q1\n",
    "outliers = ((data < (Q1 - 1.5 * IQR)) | (data > (Q3 + 1.5 * IQR))).sum()\n",
    "outliers"
   ]
  },
  {
   "cell_type": "code",
   "execution_count": 15,
   "id": "3e3fcd76",
   "metadata": {},
   "outputs": [
    {
     "data": {
      "image/png": "[encoded data removed]",
      "text/plain": [
       "<Figure size 720x720 with 6 Axes>"
      ]
     },
     "metadata": {
      "needs_background": "light"
     },
     "output_type": "display_data"
    }
   ],
   "source": [
    "newdf = data.select_dtypes(include=np.number)\n",
    "newdf = newdf.drop( columns = ['rownumber','customerid','hascrcard','isactivemember'], axis = 1)\n",
    "#['creditscore', 'age', 'balance', 'numofproducts', 'estimatedsalary'] columns to plot\n",
    "\n",
    "\n",
    "fig, axes = plt.subplots(nrows=2, ncols=3, figsize = (10,10))\n",
    "newdf.plot(kind = 'box',subplots=True, ax=axes)\n",
    "plt.show()"
   ]
  },
  {
   "cell_type": "markdown",
   "id": "fd3a1efc",
   "metadata": {},
   "source": [
    "All column seem normally distrubted after reviewing them. We can see that some people have a lower credit score and we have some clients being up to 90 years old. Will leave columns as is. "
   ]
  },
  {
   "cell_type": "markdown",
   "id": "ac2675e3",
   "metadata": {},
   "source": [
    "## Relationship Between The people who exited and there status"
   ]
  },
  {
   "cell_type": "code",
   "execution_count": 16,
   "id": "ef3fdf55",
   "metadata": {},
   "outputs": [
    {
     "data": {
      "text/plain": [
       "exited\n",
       "0    AxesSubplot(0.125,0.125;0.775x0.755)\n",
       "1    AxesSubplot(0.125,0.125;0.775x0.755)\n",
       "Name: creditscore, dtype: object"
      ]
     },
     "metadata": {},
     "output_type": "display_data"
    },
    {
     "data": {
      "image/png": "[encoded data removed]",
      "text/plain": [
       "<Figure size 432x288 with 1 Axes>"
      ]
     },
     "metadata": {
      "needs_background": "light"
     },
     "output_type": "display_data"
    }
   ],
   "source": [
    "display(data.groupby('exited')['creditscore'].hist())"
   ]
  },
  {
   "cell_type": "markdown",
   "id": "d1664075",
   "metadata": {},
   "source": [
    "The majority of the clients have a 600-700 credit score "
   ]
  },
  {
   "cell_type": "code",
   "execution_count": 17,
   "id": "cd6e98ca",
   "metadata": {},
   "outputs": [
    {
     "data": {
      "text/plain": [
       "exited\n",
       "0    AxesSubplot(0.125,0.125;0.775x0.755)\n",
       "1    AxesSubplot(0.125,0.125;0.775x0.755)\n",
       "Name: geography, dtype: object"
      ]
     },
     "metadata": {},
     "output_type": "display_data"
    },
    {
     "data": {
      "image/png": "[encoded data removed]",
      "text/plain": [
       "<Figure size 432x288 with 1 Axes>"
      ]
     },
     "metadata": {
      "needs_background": "light"
     },
     "output_type": "display_data"
    }
   ],
   "source": [
    "display(data.groupby('exited')['geography'].hist())"
   ]
  },
  {
   "cell_type": "markdown",
   "id": "169ed428",
   "metadata": {},
   "source": [
    "majority of over clients are in France"
   ]
  },
  {
   "cell_type": "code",
   "execution_count": 18,
   "id": "84e23f4e",
   "metadata": {},
   "outputs": [
    {
     "data": {
      "text/plain": [
       "exited\n",
       "0    AxesSubplot(0.125,0.125;0.775x0.755)\n",
       "1    AxesSubplot(0.125,0.125;0.775x0.755)\n",
       "Name: gender, dtype: object"
      ]
     },
     "metadata": {},
     "output_type": "display_data"
    },
    {
     "data": {
      "image/png": "[encoded data removed]",
      "text/plain": [
       "<Figure size 432x288 with 1 Axes>"
      ]
     },
     "metadata": {
      "needs_background": "light"
     },
     "output_type": "display_data"
    }
   ],
   "source": [
    "display(data.groupby('exited')['gender'].hist())"
   ]
  },
  {
   "cell_type": "markdown",
   "id": "5e788bc3",
   "metadata": {},
   "source": [
    "Majority of our clients are male but we can see that more females have left the bank.  "
   ]
  },
  {
   "cell_type": "code",
   "execution_count": 19,
   "id": "0e98c4ef",
   "metadata": {},
   "outputs": [
    {
     "data": {
      "text/plain": [
       "exited\n",
       "0    AxesSubplot(0.125,0.125;0.775x0.755)\n",
       "1    AxesSubplot(0.125,0.125;0.775x0.755)\n",
       "Name: age, dtype: object"
      ]
     },
     "metadata": {},
     "output_type": "display_data"
    },
    {
     "data": {
      "image/png": "[encoded data removed]",
      "text/plain": [
       "<Figure size 432x288 with 1 Axes>"
      ]
     },
     "metadata": {
      "needs_background": "light"
     },
     "output_type": "display_data"
    }
   ],
   "source": [
    "display(data.groupby('exited')['age'].hist())"
   ]
  },
  {
   "cell_type": "markdown",
   "id": "a9c1aa79",
   "metadata": {},
   "source": [
    "The majority of our clients are in the there 30-40 but between 40-50 we see the peak of our clients are leaving. Maybe there retiring and moving there money away"
   ]
  },
  {
   "cell_type": "code",
   "execution_count": 20,
   "id": "0a25770f",
   "metadata": {},
   "outputs": [
    {
     "data": {
      "text/plain": [
       "939"
      ]
     },
     "metadata": {},
     "output_type": "display_data"
    },
    {
     "data": {
      "image/png": "[encoded data removed]",
      "text/plain": [
       "<Figure size 432x288 with 1 Axes>"
      ]
     },
     "metadata": {
      "needs_background": "light"
     },
     "output_type": "display_data"
    }
   ],
   "source": [
    "age40_50 = data['age'].between(40,50, inclusive = True)\n",
    "old = data[age40_50]\n",
    "old.groupby('exited')['balance'].hist()\n",
    "#counting the amount of people who have zero money in there account between age 40-50\n",
    "display(len(old[old['balance'] == 0]))"
   ]
  },
  {
   "cell_type": "markdown",
   "id": "60d12609",
   "metadata": {},
   "source": [
    "Almost half of the people in the 40-50 years of age have left the bank due to no money"
   ]
  },
  {
   "cell_type": "code",
   "execution_count": 22,
   "id": "3cae3768",
   "metadata": {},
   "outputs": [
    {
     "data": {
      "text/plain": [
       "exited\n",
       "0    AxesSubplot(0.125,0.125;0.775x0.755)\n",
       "1    AxesSubplot(0.125,0.125;0.775x0.755)\n",
       "Name: numofproducts, dtype: object"
      ]
     },
     "execution_count": 22,
     "metadata": {},
     "output_type": "execute_result"
    },
    {
     "data": {
      "image/png": "[encoded data removed]",
      "text/plain": [
       "<Figure size 432x288 with 1 Axes>"
      ]
     },
     "metadata": {
      "needs_background": "light"
     },
     "output_type": "display_data"
    }
   ],
   "source": [
    "data.groupby('exited')['numofproducts'].hist()"
   ]
  },
  {
   "cell_type": "markdown",
   "id": "5eedcfd0",
   "metadata": {},
   "source": [
    "We see that the highest of our clients are leaving because they are only using one product. We need the customers to use more products"
   ]
  },
  {
   "cell_type": "markdown",
   "id": "e7d7c3fc",
   "metadata": {},
   "source": [
    "# Target Analysis\n",
    "We can see that surname,rownumber and customerid will not have any value to our model so we can drop this columns"
   ]
  },
  {
   "cell_type": "code",
   "execution_count": 23,
   "id": "bf257ad0",
   "metadata": {},
   "outputs": [],
   "source": [
    "data = data.drop(columns=['rownumber','surname','customerid'], axis =1)"
   ]
  },
  {
   "cell_type": "code",
   "execution_count": 24,
   "id": "8878525c",
   "metadata": {},
   "outputs": [
    {
     "data": {
      "image/png": "[encoded data removed]",
      "text/plain": [
       "<Figure size 432x288 with 1 Axes>"
      ]
     },
     "metadata": {
      "needs_background": "light"
     },
     "output_type": "display_data"
    },
    {
     "data": {
      "image/png": "[encoded data removed]",
      "text/plain": [
       "<Figure size 432x288 with 1 Axes>"
      ]
     },
     "metadata": {},
     "output_type": "display_data"
    }
   ],
   "source": [
    "    \n",
    "data.exited.value_counts().plot(kind='bar')\n",
    "plt.show()\n",
    "data[\"exited\"].value_counts(normalize=True).plot.pie()\n",
    "plt.show()"
   ]
  },
  {
   "cell_type": "markdown",
   "id": "7ac2d010",
   "metadata": {},
   "source": [
    "There is  sigfincant imbalanced between our target varibale. There are less number of customers who have exited then customer who have stayed."
   ]
  },
  {
   "cell_type": "markdown",
   "id": "41f1f329",
   "metadata": {},
   "source": [
    "# Splitting data into train,validation, and test set"
   ]
  },
  {
   "cell_type": "code",
   "execution_count": 28,
   "id": "e931e6cd",
   "metadata": {},
   "outputs": [],
   "source": [
    "data_ohe = pd.get_dummies(data, drop_first=True)"
   ]
  },
  {
   "cell_type": "code",
   "execution_count": 29,
   "id": "b2633a17",
   "metadata": {},
   "outputs": [],
   "source": [
    "X = data_ohe.drop('exited', axis=1)\n",
    "y = data_ohe['exited']\n",
    "X_train, X_test, y_train, y_test = train_test_split(X, y, test_size = 0.2, stratify=y, random_state=12345)"
   ]
  },
  {
   "cell_type": "code",
   "execution_count": 32,
   "id": "7562ae82",
   "metadata": {},
   "outputs": [],
   "source": [
    "#split the data again from X_train and y_train to get a  valid set.\n",
    "X_train, X_valid, y_train, y_valid = train_test_split(X_train, y_train, test_size = 0.2,stratify = y_train, random_state=12345)"
   ]
  },
  {
   "cell_type": "code",
   "execution_count": 33,
   "id": "15fc6239",
   "metadata": {},
   "outputs": [
    {
     "name": "stdout",
     "output_type": "stream",
     "text": [
      "X_train (6400, 21)\n",
      "y_train (6400,)\n",
      "X_test (2000, 21)\n",
      "y_test (2000,)\n",
      "X_valid (1600, 21)\n",
      "y_valid (1600,)\n"
     ]
    }
   ],
   "source": [
    "#function to print the variable name \n",
    "def namestr(obj, namespace):\n",
    "    return [name for name in namespace if namespace[name] is obj]\n",
    "#looping over the spilt data to get spilt rows and columns\n",
    "for part in [X_train, y_train, X_test, y_test, X_valid, y_valid]:\n",
    "    print(namestr(part, globals())[0], part.shape)"
   ]
  },
  {
   "cell_type": "markdown",
   "id": "944d75d3",
   "metadata": {},
   "source": [
    "# Feature Scaling"
   ]
  },
  {
   "cell_type": "code",
   "execution_count": 34,
   "id": "c446acfa",
   "metadata": {},
   "outputs": [],
   "source": [
    "cols = list(X_train.columns)\n",
    "scaler = StandardScaler()\n",
    "X_train[cols] = scaler.fit_transform(X_train[cols])\n",
    "X_test[cols] = scaler.transform(X_test[cols])\n",
    "X_valid[cols] = scaler.transform(X_valid[cols])"
   ]
  },
  {
   "cell_type": "markdown",
   "id": "eec1f289",
   "metadata": {},
   "source": [
    "# Preliminary F1 score (baseline)"
   ]
  },
  {
   "cell_type": "code",
   "execution_count": 35,
   "id": "62146bfa",
   "metadata": {},
   "outputs": [
    {
     "name": "stdout",
     "output_type": "stream",
     "text": [
      " Baseline F1 score: [33.81803074366431]\n"
     ]
    }
   ],
   "source": [
    "strategies = ['constant']\n",
    "test_scores = []\n",
    "\n",
    "for s in strategies:\n",
    "    dclf = DummyClassifier(strategy = s, constant = 1, random_state = 12345)\n",
    "    dclf.fit(X_train, y_train)\n",
    "    predicted = dclf.predict(X_test)\n",
    "    score = f1_score(y_test,predicted)*100\n",
    "    test_scores.append(score)\n",
    "print(f' Baseline F1 score: {test_scores}')"
   ]
  },
  {
   "cell_type": "markdown",
   "id": "cc96899b",
   "metadata": {},
   "source": [
    "This means that our model should do better then 33.8% of the F1 metric "
   ]
  },
  {
   "cell_type": "markdown",
   "id": "93e9caad",
   "metadata": {},
   "source": [
    "# Models with class imbalance"
   ]
  },
  {
   "cell_type": "code",
   "execution_count": 36,
   "id": "27e8c065",
   "metadata": {},
   "outputs": [],
   "source": [
    "from sklearn.model_selection import RandomizedSearchCV\n",
    "from scipy.stats import randint"
   ]
  },
  {
   "cell_type": "code",
   "execution_count": 37,
   "id": "defd499d",
   "metadata": {},
   "outputs": [
    {
     "name": "stdout",
     "output_type": "stream",
     "text": [
      "Tuned Decision Tree Parameters: {'criterion': 'gini', 'max_depth': None, 'max_features': 8, 'min_samples_leaf': 5}\n",
      "Best score is 0.5164112494652205\n"
     ]
    }
   ],
   "source": [
    "# Setup the parameters and distributions to sample from: param_dist\n",
    "param_dist = {\"max_depth\": [3, None],\n",
    "              \"max_features\": randint(1, 9),\n",
    "              \"min_samples_leaf\": randint(1, 9),\n",
    "              \"criterion\": [\"gini\", \"entropy\"]}\n",
    "\n",
    "# Instantiate a Decision Tree classifier: tree\n",
    "tree = DecisionTreeClassifier(random_state = 12345)\n",
    "\n",
    "# Instantiate the RandomizedSearchCV object: tree_cv\n",
    "tree_cv = RandomizedSearchCV(tree, param_dist, cv=5, scoring = 'f1')\n",
    "\n",
    "# Fit it to the data\n",
    "tree_cv.fit(X_train, y_train)\n",
    "\n",
    "# Print the tuned parameters and score\n",
    "print(\"Tuned Decision Tree Parameters: {}\".format(tree_cv.best_params_))\n",
    "print(\"Best score is {}\".format(tree_cv.best_score_))"
   ]
  },
  {
   "cell_type": "code",
   "execution_count": 38,
   "id": "c15c2bd9",
   "metadata": {},
   "outputs": [
    {
     "name": "stdout",
     "output_type": "stream",
     "text": [
      "Tuned Random Forest Parameters: {'max_depth': 13, 'n_estimators': 31}\n",
      "Best score is 0.550028779931446\n"
     ]
    }
   ],
   "source": [
    "#RandomForestClassifier\n",
    "hyper = {\n",
    "    'n_estimators': range(1,50,10),\n",
    "    'max_depth': randint(1,20)\n",
    "}\n",
    "\n",
    "\n",
    "rf = RandomForestClassifier(random_state = 12345)\n",
    "rfc = RandomizedSearchCV(rf,hyper, cv =5, scoring = 'f1')\n",
    "rfc.fit(X_train,y_train)\n",
    "print(\"Tuned Random Forest Parameters: {}\".format(rfc.best_params_))\n",
    "print(\"Best score is {}\".format(rfc.best_score_))"
   ]
  },
  {
   "cell_type": "code",
   "execution_count": 39,
   "id": "a397c77e",
   "metadata": {},
   "outputs": [
    {
     "name": "stdout",
     "output_type": "stream",
     "text": [
      "Tuned LogisticRegressionParameters: {'solver': 'saga', 'penalty': 'l2', 'C': 10000.0}\n",
      "Best score is 0.29611807549307645\n"
     ]
    }
   ],
   "source": [
    "param_dist = {\n",
    "     'penalty' : ['l1', 'l2'],\n",
    "    'C' : np.logspace(-4, 4, 20),\n",
    "    'solver' : ['liblinear','saga']}\n",
    "    \n",
    "lr = LogisticRegression(random_state = 12345)\n",
    "log = RandomizedSearchCV(lr, param_dist, cv=5, scoring = 'f1')\n",
    "log.fit(X_train,y_train) \n",
    "    \n",
    "# Print the tuned parameters and score\n",
    "print(\"Tuned LogisticRegressionParameters: {}\".format(log.best_params_))\n",
    "print(\"Best score is {}\".format(log.best_score_))"
   ]
  },
  {
   "cell_type": "markdown",
   "id": "aaa86b85",
   "metadata": {},
   "source": [
    "We can see that Random Forest model had the hightest with a total of 55%"
   ]
  },
  {
   "cell_type": "markdown",
   "id": "cff9b48f",
   "metadata": {},
   "source": [
    "# Class imbalance correction and hyper parameter tuning\n",
    "In this section we will try to correct class imbalance using the following methods:\n",
    "\n",
    "Class Weight Adjustment;\n",
    "\n",
    "Upsampling"
   ]
  },
  {
   "cell_type": "code",
   "execution_count": 42,
   "id": "4b015f34",
   "metadata": {},
   "outputs": [],
   "source": [
    "# Class Weight Adjustment"
   ]
  },
  {
   "cell_type": "code",
   "execution_count": 43,
   "id": "8547fda4",
   "metadata": {},
   "outputs": [
    {
     "name": "stdout",
     "output_type": "stream",
     "text": [
      "F1: 0.5229759299781183\n",
      "F1: 0.5229759299781183\n",
      "F1: 0.5229759299781183\n",
      "F1: 0.5229759299781183\n"
     ]
    }
   ],
   "source": [
    "#LogisticRegression Model\n",
    "solver = ['liblinear', 'newton-cg', 'lbfgs', 'saga']\n",
    "\n",
    "for j in solver:\n",
    "    model = LogisticRegression(random_state=12345, solver= j, class_weight = 'balanced')\n",
    "    model.fit(X_train, y_train)\n",
    "    predicted_valid = model.predict(X_valid)\n",
    "    print('F1:', f1_score(y_valid, predicted_valid))"
   ]
  },
  {
   "cell_type": "code",
   "execution_count": 44,
   "id": "71830eec",
   "metadata": {},
   "outputs": [
    {
     "name": "stdout",
     "output_type": "stream",
     "text": [
      "Our best LR model is : 0.5229759299781183\n"
     ]
    }
   ],
   "source": [
    "model = LogisticRegression(random_state=12345, solver= j, class_weight = 'balanced')\n",
    "model.fit(X_train, y_train)\n",
    "predicted_valid = model.predict(X_valid)\n",
    "print('Our best LR model is :', f1_score(y_valid, predicted_valid).max())"
   ]
  },
  {
   "cell_type": "code",
   "execution_count": 45,
   "id": "f1b58d8f",
   "metadata": {},
   "outputs": [],
   "source": [
    "#RandomForestClassifier\n",
    "\n",
    "hyper = []\n",
    "\n",
    "for x in range(1,50,10):\n",
    "    for depth in range(1,20):\n",
    "        model = RandomForestClassifier(random_state = 12345, n_estimators = x, max_depth = depth,class_weight = 'balanced')\n",
    "        model.fit(X_train, y_train)\n",
    "        predicted_valid = model.predict(X_valid)\n",
    "        result = round(f1_score(y_valid, predicted_valid),5)\n",
    "        hyper.append({'n_estimators':x , 'max_depth':depth, 'F1score':result})\n",
    "        "
   ]
  },
  {
   "cell_type": "code",
   "execution_count": 46,
   "id": "c7faca69",
   "metadata": {},
   "outputs": [
    {
     "data": {
      "text/html": [
       "<div>\n",
       "<style scoped>\n",
       "    .dataframe tbody tr th:only-of-type {\n",
       "        vertical-align: middle;\n",
       "    }\n",
       "\n",
       "    .dataframe tbody tr th {\n",
       "        vertical-align: top;\n",
       "    }\n",
       "\n",
       "    .dataframe thead th {\n",
       "        text-align: right;\n",
       "    }\n",
       "</style>\n",
       "<table border=\"1\" class=\"dataframe\">\n",
       "  <thead>\n",
       "    <tr style=\"text-align: right;\">\n",
       "      <th></th>\n",
       "      <th>n_estimators</th>\n",
       "      <th>max_depth</th>\n",
       "      <th>F1score</th>\n",
       "    </tr>\n",
       "  </thead>\n",
       "  <tbody>\n",
       "    <tr>\n",
       "      <th>66</th>\n",
       "      <td>31</td>\n",
       "      <td>10</td>\n",
       "      <td>0.65103</td>\n",
       "    </tr>\n",
       "  </tbody>\n",
       "</table>\n",
       "</div>"
      ],
      "text/plain": [
       "    n_estimators  max_depth  F1score\n",
       "66            31         10  0.65103"
      ]
     },
     "execution_count": 46,
     "metadata": {},
     "output_type": "execute_result"
    }
   ],
   "source": [
    "#The best parameters for Random Forest Classifer         \n",
    "best = pd.DataFrame(hyper, columns = ['n_estimators','max_depth','F1score'])\n",
    "best_para = best[best['F1score'] == best['F1score'].max()]\n",
    "best_para"
   ]
  },
  {
   "cell_type": "code",
   "execution_count": 47,
   "id": "56c0225a",
   "metadata": {},
   "outputs": [
    {
     "name": "stdout",
     "output_type": "stream",
     "text": [
      "The max_depth 1: 0.5\n",
      "The max_depth 2: 0.50415\n",
      "The max_depth 3: 0.52519\n",
      "The max_depth 4: 0.54202\n",
      "The max_depth 5: 0.58195\n",
      "The max_depth 6: 0.55371\n",
      "The max_depth 7: 0.5721\n",
      "The max_depth 8: 0.54654\n",
      "The max_depth 9: 0.53721\n",
      "The max_depth 10: 0.54988\n"
     ]
    }
   ],
   "source": [
    "for depth in range(1, 11):\n",
    "\tmodel = DecisionTreeClassifier(random_state=12345, max_depth=depth, class_weight = 'balanced') # create a model with the given depth\n",
    "\tmodel.fit(X_train, y_train) # train the model\n",
    "\tdec_tree = model.predict(X_valid) # get the model's predictions\n",
    "\tdec_result = round(f1_score(y_valid,dec_tree),5) # calculate the accuracy\n",
    "\tprint(f'The max_depth {depth}: {dec_result}')"
   ]
  },
  {
   "cell_type": "code",
   "execution_count": 48,
   "id": "a255ff9b",
   "metadata": {},
   "outputs": [
    {
     "name": "stdout",
     "output_type": "stream",
     "text": [
      "Our best Decision Tree Model is:0.55371\n"
     ]
    }
   ],
   "source": [
    "decision_tree = DecisionTreeClassifier(random_state=12345, max_depth=6, class_weight = 'balanced')\n",
    "decision_tree.fit(X_train, y_train)\n",
    "pred = decision_tree.predict(X_valid)\n",
    "\n",
    "acc_tree = round(f1_score(y_valid,pred) , 5)\n",
    "print(f'Our best Decision Tree Model is:{acc_tree}')"
   ]
  },
  {
   "cell_type": "markdown",
   "id": "e46ee5c2",
   "metadata": {},
   "source": [
    "# Upsampling"
   ]
  },
  {
   "cell_type": "code",
   "execution_count": 49,
   "id": "b9e33e98",
   "metadata": {},
   "outputs": [],
   "source": [
    "def upsample(features, target, repeat):\n",
    "    features_zeros = features[target == 0]\n",
    "    features_ones = features[target == 1]\n",
    "    target_zeros = target[target == 0]\n",
    "    target_ones = target[target == 1]\n",
    "\n",
    "    features_upsampled = pd.concat([features_zeros] + [features_ones] * repeat)\n",
    "    target_upsampled = pd.concat([target_zeros] + [target_ones] * repeat)\n",
    "\n",
    "    features_upsampled, target_upsampled = shuffle(\n",
    "        features_upsampled, target_upsampled, random_state=12345\n",
    "    )\n",
    "\n",
    "    return features_upsampled, target_upsampled\n",
    "\n",
    "\n",
    "features_upsampled, target_upsampled = upsample(\n",
    "    X_train, y_train, 10)"
   ]
  },
  {
   "cell_type": "code",
   "execution_count": 50,
   "id": "7dc0219d",
   "metadata": {},
   "outputs": [
    {
     "name": "stdout",
     "output_type": "stream",
     "text": [
      "F1: 0.41144708423326126\n",
      "F1: 0.41144708423326126\n",
      "F1: 0.41144708423326126\n",
      "F1: 0.41144708423326126\n"
     ]
    }
   ],
   "source": [
    "#LogisticRegression Model\n",
    "solver = ['liblinear', 'newton-cg', 'lbfgs', 'saga']\n",
    "\n",
    "for j in solver:\n",
    "    model = LogisticRegression(random_state=12345, solver= j)\n",
    "    model.fit(features_upsampled, target_upsampled)\n",
    "    predicted_valid = model.predict(X_test)\n",
    "    print('F1:', f1_score(y_test, predicted_valid))"
   ]
  },
  {
   "cell_type": "code",
   "execution_count": 51,
   "id": "ec72f1d3",
   "metadata": {},
   "outputs": [
    {
     "name": "stdout",
     "output_type": "stream",
     "text": [
      " Our best LR model is 0.41145\n"
     ]
    }
   ],
   "source": [
    "LR = LogisticRegression( random_state=12345, solver = 'saga' )\n",
    "LR.fit(features_upsampled, target_upsampled)   \n",
    "y_pred = LR.predict(X_test)\n",
    "\n",
    "acc_LR = round(f1_score(y_test,y_pred),5)\n",
    "print(f' Our best LR model is {acc_LR}')"
   ]
  },
  {
   "cell_type": "code",
   "execution_count": 52,
   "id": "5f720952",
   "metadata": {},
   "outputs": [],
   "source": [
    "hyper = []\n",
    "\n",
    "for x in range(1,50,10):\n",
    "    for depth in range(1,20):\n",
    "        model = RandomForestClassifier(random_state = 12345, n_estimators = x, max_depth = depth)\n",
    "        model.fit(features_upsampled, target_upsampled)\n",
    "        predicted_valid = model.predict(X_test)\n",
    "        result = round(f1_score(y_test, predicted_valid),5)\n",
    "        hyper.append({'n_estimators':x , 'max_depth':depth, 'F1score':result})"
   ]
  },
  {
   "cell_type": "code",
   "execution_count": 53,
   "id": "ee4f20a0",
   "metadata": {},
   "outputs": [],
   "source": [
    "#The best parameters for Random Forest Classifer         \n",
    "best = pd.DataFrame(hyper, columns = ['n_estimators','max_depth','F1score'])\n",
    "best_para = best[best['F1score'] == best['F1score'].max()]"
   ]
  },
  {
   "cell_type": "code",
   "execution_count": 54,
   "id": "5084807d",
   "metadata": {},
   "outputs": [
    {
     "name": "stdout",
     "output_type": "stream",
     "text": [
      "The max_depth 1: 0.33818\n",
      "The max_depth 2: 0.49208\n",
      "The max_depth 3: 0.4239\n",
      "The max_depth 4: 0.4239\n",
      "The max_depth 5: 0.46885\n",
      "The max_depth 6: 0.51814\n",
      "The max_depth 7: 0.52648\n",
      "The max_depth 8: 0.4727\n",
      "The max_depth 9: 0.50584\n",
      "The max_depth 10: 0.49483\n"
     ]
    }
   ],
   "source": [
    "for depth in range(1, 11):\n",
    "\tmodel = DecisionTreeClassifier(random_state=12345, max_depth=depth) # create a model with the given depth\n",
    "\tmodel.fit(features_upsampled,target_upsampled) # train the model\n",
    "\tdec_tree = model.predict(X_test) # get the model's predictions\n",
    "\tdec_result = round(f1_score(y_test, dec_tree),5) # calculate the accuracy\n",
    "\tprint(f'The max_depth {depth}: {dec_result}')"
   ]
  },
  {
   "cell_type": "code",
   "execution_count": 55,
   "id": "93c4d6e3",
   "metadata": {},
   "outputs": [
    {
     "name": "stdout",
     "output_type": "stream",
     "text": [
      "Our best Decision Tree Model is:0.51814\n"
     ]
    }
   ],
   "source": [
    "decision_tree = DecisionTreeClassifier(random_state=12345, max_depth=6)\n",
    "decision_tree.fit(features_upsampled,target_upsampled)\n",
    "pred = decision_tree.predict(X_test)\n",
    "\n",
    "acc_tree = round(f1_score(y_test,pred) , 5)\n",
    "print(f'Our best Decision Tree Model is:{acc_tree}')"
   ]
  },
  {
   "cell_type": "markdown",
   "id": "c66185dd",
   "metadata": {},
   "source": [
    "# Retrain the best tuned model "
   ]
  },
  {
   "cell_type": "code",
   "execution_count": 57,
   "id": "11646ad2",
   "metadata": {},
   "outputs": [
    {
     "name": "stdout",
     "output_type": "stream",
     "text": [
      "0.62883\n"
     ]
    }
   ],
   "source": [
    "rf = RandomForestClassifier(random_state = 12345, n_estimators =31, max_depth = 9,class_weight = 'balanced')\n",
    "rf.fit(X_train, y_train)\n",
    "predicted_valid = rf.predict(X_test)\n",
    "result = round(f1_score(y_test, predicted_valid),5)\n",
    "print(result)"
   ]
  },
  {
   "cell_type": "markdown",
   "id": "476115c5",
   "metadata": {},
   "source": [
    "# Santiy Check "
   ]
  },
  {
   "cell_type": "markdown",
   "id": "7faf85cb",
   "metadata": {},
   "source": [
    "We can that our baseline Dummy Classifer model had a 33.8% and Our Random Forest classifer had a 63% which is a 29.2% increase"
   ]
  },
  {
   "cell_type": "markdown",
   "id": "30bf7b3d",
   "metadata": {},
   "source": [
    "# AUC-ROC\n",
    "To find how much our model differs from the random model, let's calculate the AUC-ROC value (Area Under Curve ROC) This is an evaluation metric with values in the range from 0 to 1. The AUC-ROC value for a random model is 0.5"
   ]
  },
  {
   "cell_type": "code",
   "execution_count": 59,
   "id": "ce3530c8",
   "metadata": {},
   "outputs": [],
   "source": [
    "probabilities_test = rf.predict_proba(X_test)\n",
    "probabilities_one_test = probabilities_test[:, 1]"
   ]
  },
  {
   "cell_type": "code",
   "execution_count": 60,
   "id": "e5b478f4",
   "metadata": {},
   "outputs": [
    {
     "data": {
      "text/plain": [
       "86.12"
      ]
     },
     "execution_count": 60,
     "metadata": {},
     "output_type": "execute_result"
    }
   ],
   "source": [
    "auc_roc = round(roc_auc_score(y_test, probabilities_one_test) * 100, 2)\n",
    "auc_roc"
   ]
  },
  {
   "cell_type": "markdown",
   "id": "e02ca03e",
   "metadata": {},
   "source": [
    "The AUC-ROC value is very high, it means that our model's predictions are correct in more than 85% of cases"
   ]
  },
  {
   "cell_type": "code",
   "execution_count": 62,
   "id": "ac12eb8f",
   "metadata": {},
   "outputs": [],
   "source": [
    "fpr, tpr, thresholds = roc_curve(y_test, probabilities_one_test) "
   ]
  },
  {
   "cell_type": "code",
   "execution_count": 63,
   "id": "186b266c",
   "metadata": {},
   "outputs": [
    {
     "data": {
      "image/png": "[encoded data removed]",
      "text/plain": [
       "<Figure size 432x288 with 1 Axes>"
      ]
     },
     "metadata": {
      "needs_background": "light"
     },
     "output_type": "display_data"
    }
   ],
   "source": [
    "plt.figure()\n",
    "plt.plot(fpr, tpr)\n",
    "# ROC curve for random model (looks like a straight line)\n",
    "plt.plot([0, 1], [0, 1], linestyle='--')\n",
    "plt.xlabel('False Positive Rate')\n",
    "plt.ylabel('True Positive Rate')\n",
    "plt.ylim([0.0, 1.0])\n",
    "plt.xlim([0.0, 1.0])\n",
    "plt.title('ROC curve')\n",
    "plt.show()"
   ]
  },
  {
   "cell_type": "markdown",
   "id": "446b1a1c",
   "metadata": {},
   "source": [
    "#  Conclusion"
   ]
  },
  {
   "cell_type": "markdown",
   "id": "359c989b",
   "metadata": {},
   "source": [
    "In this project we have developed a binary classification model on an imbalanced dataset that analyzes data on clients’ past behavior and termination of contracts with the bank and predicts whether a customer will leave the bank soon\n",
    "In the following section we have performed an exploratory data analysis and reached the following conclusions\n",
    "Most clients are located in France and they are the most loyal to the bank among all countries, on average. Most clients are male. Female clients leave the bank more often. We noticed that our target classes are imbalanced: there are more than twice as many observations when a client stayed with the bank than of those who left. As one way to correct it, we used the stratify parameter while splittig data into train and test sets. It makes a split so that the proportion of values in the sample produced will be the same as the proportion of values in the target variable.\n",
    "    In the following step I tried correcting the imbalance target with 2 methods using \n",
    "Class weight adjustment and upsampling\n",
    "I have also tuned each of the 3 chosen algorithms (Decision Tree, Random Forest and Logistic Regression) and searched for the best hyperparameters in order to select the best mode\n",
    "Random Forest was our best model using class weight adjustment showing 63% on the intial data\n",
    "Finally, we have calculated the AUC-ROC value and it turned out to be 86.19%, which means that our model's predictions are correct in more than 86% of cases. We have also plotted the ROC curve. its ROC curve is much higher than the diagonal\n"
   ]
  },
  {
   "cell_type": "code",
   "execution_count": null,
   "id": "e84e4fa1",
   "metadata": {},
   "outputs": [],
   "source": []
  }
 ],
 "metadata": {
  "kernelspec": {
   "display_name": "Python 3 (ipykernel)",
   "language": "python",
   "name": "python3"
  },
  "language_info": {
   "codemirror_mode": {
    "name": "ipython",
    "version": 3
   },
   "file_extension": ".py",
   "mimetype": "text/x-python",
   "name": "python",
   "nbconvert_exporter": "python",
   "pygments_lexer": "ipython3",
   "version": "3.8.8"
  }
 },
 "nbformat": 4,
 "nbformat_minor": 5
}
